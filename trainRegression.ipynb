{
 "cells": [
  {
   "cell_type": "code",
   "execution_count": 2,
   "metadata": {},
   "outputs": [],
   "source": [
    "import io\n",
    "import os\n",
    "\n",
    "import pandas as pd\n",
    "import numpy as np\n",
    "\n",
    "import seaborn as sns\n",
    "import matplotlib.pyplot as plt\n",
    "from sklearn.preprocessing import MinMaxScaler\n",
    "from sklearn.linear_model import LinearRegression\n",
    "import pickle"
   ]
  },
  {
   "cell_type": "code",
   "execution_count": 3,
   "metadata": {},
   "outputs": [],
   "source": [
    "datacsv = pd.read_csv('airbnb-listings.csv', sep=';', low_memory=False)\n",
    "data = datacsv.query('`Number of Reviews` > 20').query('`Review Scores Value` > 9.0').query(\n",
    "    '`Room Type` == \"Entire home/apt\"')\n",
    "indexes = data.index.to_list()\n",
    "final = data['Price'][indexes]"
   ]
  },
  {
   "cell_type": "code",
   "execution_count": 4,
   "metadata": {},
   "outputs": [
    {
     "data": {
      "text/plain": [
       "LinearRegression(copy_X=True, fit_intercept=True, n_jobs=None, normalize=False)"
      ]
     },
     "execution_count": 4,
     "metadata": {},
     "output_type": "execute_result"
    }
   ],
   "source": [
    "regression_scaler = MinMaxScaler()\n",
    "regr = LinearRegression()\n",
    "tempdf = data[['Bathrooms', 'Bedrooms', 'Beds', 'Amenities', 'Price']].dropna()\n",
    "tempX = tempdf[['Bathrooms', 'Bedrooms', 'Beds', 'Amenities']]\n",
    "X = pd.concat([tempX.drop('Amenities', 1), tempX['Amenities'].str.lower().str.get_dummies(sep=',')], 1).drop(['translation missing: en.hosting_amenity_49', 'translation missing: en.hosting_amenity_50', 'firm matress', 'smartlock'], 1)\n",
    "y = regression_scaler.fit_transform(tempdf[['Price']])\n",
    "regr.fit(X,y)"
   ]
  },
  {
   "cell_type": "code",
   "execution_count": 116,
   "metadata": {},
   "outputs": [],
   "source": [
    "with open('linearRegression_model.pkl', 'wb') as file:\n",
    "    pickle.dump(regr, file)\n",
    "with open('linearRegressionScaler.pkl', 'wb') as file:\n",
    "    pickle.dump(regression_scaler, file)\n",
    "# with open('linearRegression_model.pkl', 'rb') as file:\n",
    "#     regr = pickle.load(file)\n",
    "# with open('linearRegressionScaler.pkl', 'rb') as file:\n",
    "#     regression_scaler = pickle.load(file)"
   ]
  },
  {
   "cell_type": "code",
   "execution_count": 5,
   "metadata": {
    "scrolled": false
   },
   "outputs": [
    {
     "data": {
      "text/plain": [
       "['Bathrooms',\n",
       " 'Bedrooms',\n",
       " 'Beds',\n",
       " '24-hour check-in',\n",
       " 'accessible-height bed',\n",
       " 'accessible-height toilet',\n",
       " 'air conditioning',\n",
       " 'baby bath',\n",
       " 'baby monitor',\n",
       " 'babysitter recommendations',\n",
       " 'bathtub',\n",
       " 'bbq grill',\n",
       " 'beach essentials',\n",
       " 'bed linens',\n",
       " 'breakfast',\n",
       " 'buzzer/wireless intercom',\n",
       " 'cable tv',\n",
       " 'carbon monoxide detector',\n",
       " 'cat(s)',\n",
       " 'changing table',\n",
       " 'children’s books and toys',\n",
       " 'children’s dinnerware',\n",
       " 'cleaning before checkout',\n",
       " 'coffee maker',\n",
       " 'cooking basics',\n",
       " 'crib',\n",
       " 'disabled parking spot',\n",
       " 'dishes and silverware',\n",
       " 'dishwasher',\n",
       " 'dog(s)',\n",
       " 'doorman',\n",
       " 'doorman entry',\n",
       " 'dryer',\n",
       " 'elevator in building',\n",
       " 'essentials',\n",
       " 'ethernet connection',\n",
       " 'ev charger',\n",
       " 'extra pillows and blankets',\n",
       " 'family/kid friendly',\n",
       " 'fire extinguisher',\n",
       " 'fireplace guards',\n",
       " 'firm mattress',\n",
       " 'first aid kit',\n",
       " 'flat smooth pathway to front door',\n",
       " 'free parking on premises',\n",
       " 'free parking on street',\n",
       " 'game console',\n",
       " 'garden or backyard',\n",
       " 'gym',\n",
       " 'hair dryer',\n",
       " 'hangers',\n",
       " 'heating',\n",
       " 'high chair',\n",
       " 'hot tub',\n",
       " 'hot water',\n",
       " 'indoor fireplace',\n",
       " 'internet',\n",
       " 'iron',\n",
       " 'keypad',\n",
       " 'kitchen',\n",
       " 'lake access',\n",
       " 'laptop friendly workspace',\n",
       " 'lock on bedroom door',\n",
       " 'lockbox',\n",
       " 'long term stays allowed',\n",
       " 'luggage dropoff allowed',\n",
       " 'microwave',\n",
       " 'other pet(s)',\n",
       " 'outlet covers',\n",
       " 'oven',\n",
       " 'pack ’n play/travel crib',\n",
       " 'paid parking off premises',\n",
       " 'path to entrance lit at night',\n",
       " 'patio or balcony',\n",
       " 'pets allowed',\n",
       " 'pets live on this property',\n",
       " 'pocket wifi',\n",
       " 'pool',\n",
       " 'private entrance',\n",
       " 'private living room',\n",
       " 'refrigerator',\n",
       " 'roll-in shower with shower bench or chair',\n",
       " 'room-darkening shades',\n",
       " 'safety card',\n",
       " 'self check-in',\n",
       " 'shampoo',\n",
       " 'single level home',\n",
       " 'smart lock',\n",
       " 'smoke detector',\n",
       " 'smoking allowed',\n",
       " 'stair gates',\n",
       " 'step-free access',\n",
       " 'stove',\n",
       " 'suitable for events',\n",
       " 'table corner guards',\n",
       " 'tub with shower bench',\n",
       " 'tv',\n",
       " 'washer',\n",
       " 'washer / dryer',\n",
       " 'waterfront',\n",
       " 'wheelchair accessible',\n",
       " 'wide clearance to bed',\n",
       " 'wide clearance to shower and toilet',\n",
       " 'wide doorway',\n",
       " 'wide hallway clearance',\n",
       " 'window guards',\n",
       " 'wireless internet']"
      ]
     },
     "execution_count": 5,
     "metadata": {},
     "output_type": "execute_result"
    }
   ],
   "source": [
    "list(X.columns)"
   ]
  },
  {
   "cell_type": "code",
   "execution_count": 10,
   "metadata": {
    "scrolled": true
   },
   "outputs": [
    {
     "name": "stdout",
     "output_type": "stream",
     "text": [
      "[[0.12440527]]\n",
      "[[ 0.04541548  0.03102593  0.00322098 -0.00518235  0.06895929  0.01989871\n",
      "  -0.0102023   0.03052901 -0.01344133 -0.00178989 -0.00686064  0.0123808\n",
      "  -0.02635912  0.07977668 -0.00900698  0.02799031  0.01516231 -0.01619782\n",
      "  -0.00648917  0.00746499  0.00483338  0.00581377  0.16100361 -0.14799102\n",
      "   0.00838193 -0.01897688 -0.09873753 -0.02669952  0.02596326 -0.00091906\n",
      "   0.00567881 -0.01567952  0.03285415 -0.02685727 -0.00782452 -0.0201767\n",
      "   0.09839906 -0.07407348 -0.01044033 -0.00389796 -0.00153307  0.00173703\n",
      "  -0.00559364  0.04204661 -0.00185446 -0.03120363  0.05123392  0.00840105\n",
      "   0.01795601 -0.0044025  -0.01489262 -0.01439797  0.0041379   0.01796051\n",
      "  -0.00993024  0.01034246  0.00773521  0.00798124  0.00190803  0.01319269\n",
      "   0.53933088  0.00359777 -0.00627721 -0.00064753 -0.03641972  0.0060823\n",
      "  -0.03155923 -0.00665264 -0.01440753  0.02679792 -0.00604863  0.00568364\n",
      "   0.03859762 -0.00080595 -0.00353842 -0.00088341  0.01218624  0.00414025\n",
      "  -0.0055542  -0.00285136  0.12308141 -0.13939089  0.0211523  -0.00839683\n",
      "   0.00794815 -0.0023644  -0.00200717 -0.00147898  0.03009552 -0.02621007\n",
      "   0.00627672 -0.04615544  0.03667112  0.01704189 -0.0330503   0.58339876\n",
      "  -0.00266426 -0.03142547 -0.01401071 -0.08153742  0.00541404 -0.01005868\n",
      "   0.02591633 -0.04503099 -0.01734725  0.0130078   0.00744941]]\n",
      "[0.04474289]\n"
     ]
    }
   ],
   "source": [
    "l = [[1, 1, 1]]\n",
    "for i in range(104):\n",
    "    l[0].append(0)\n",
    "print(regr.predict(l))\n",
    "print(regr.coef_)\n",
    "print(regr.intercept_)"
   ]
  },
  {
   "cell_type": "code",
   "execution_count": 11,
   "metadata": {
    "scrolled": true
   },
   "outputs": [
    {
     "data": {
      "text/plain": [
       "133.0368153084926"
      ]
     },
     "execution_count": 11,
     "metadata": {},
     "output_type": "execute_result"
    }
   ],
   "source": [
    "regression_scaler.inverse_transform(regr.predict(l))[0][0]"
   ]
  }
 ],
 "metadata": {
  "kernelspec": {
   "display_name": "Python 3",
   "language": "python",
   "name": "python3"
  },
  "language_info": {
   "codemirror_mode": {
    "name": "ipython",
    "version": 3
   },
   "file_extension": ".py",
   "mimetype": "text/x-python",
   "name": "python",
   "nbconvert_exporter": "python",
   "pygments_lexer": "ipython3",
   "version": "3.6.8"
  }
 },
 "nbformat": 4,
 "nbformat_minor": 4
}
